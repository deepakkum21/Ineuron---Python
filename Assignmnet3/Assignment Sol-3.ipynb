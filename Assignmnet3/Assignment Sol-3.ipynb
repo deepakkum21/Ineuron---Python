{
 "cells": [
  {
   "cell_type": "markdown",
   "metadata": {},
   "source": [
    "# Q1:- Write a function to compute 5/0 and use try/except to catch the exceptions."
   ]
  },
  {
   "cell_type": "code",
   "execution_count": 5,
   "metadata": {},
   "outputs": [
    {
     "name": "stdout",
     "output_type": "stream",
     "text": [
      "There is an exception while preforming 5/0 operation due to division by zero\n",
      "function executed with exception\n"
     ]
    }
   ],
   "source": [
    "def compute():\n",
    "    '''function to compute 5/0 with exception handling'''\n",
    "    \n",
    "    try:\n",
    "        res = 5/0\n",
    "        \n",
    "    except ZeroDivisionError as error:\n",
    "        print('There is an exception while preforming 5/0 operation due to', error)\n",
    "        \n",
    "    except Exception:\n",
    "        print('This is the default exception')\n",
    "        \n",
    "    else:\n",
    "        return res\n",
    "    \n",
    "    finally:\n",
    "        print('function executed with exception')\n",
    "        \n",
    "compute()        "
   ]
  },
  {
   "cell_type": "markdown",
   "metadata": {},
   "source": [
    "# Q2:- Implement a Python program to generate all sentences where subject is in [\"Americans\",\"Indians\"] and verb is in [\"Play\", \"watch\"] and the object is in [\"Baseball\",\"cricket\"].\n",
    "## Hint: Subject,Verb and Object should be declared in the program as shown below.\n",
    "### subjects=[\"Americans \",\"Indians\"]\n",
    "### verbs=[\"play\",\"watch\"]\n",
    "### objects=[\"Baseball\",\"Cricket\"]\n",
    "## Output should come as below:\n",
    "### Americans play Baseball.\n",
    "### Americans play Cricket.\n",
    "### Americans watch Baseball.\n",
    "### Americans watch Cricket.\n",
    "### Indians play Baseball.\n",
    "### Indians play Cricket.\n",
    "### Indians watch Baseball.\n",
    "### Indians watch Cricket."
   ]
  },
  {
   "cell_type": "code",
   "execution_count": 9,
   "metadata": {},
   "outputs": [
    {
     "name": "stdout",
     "output_type": "stream",
     "text": [
      "Americans play Baseball.\n",
      "Americans play Cricket.\n",
      "Americans watch Baseball.\n",
      "Americans watch Cricket.\n",
      "Indians play Baseball.\n",
      "Indians play Cricket.\n",
      "Indians watch Baseball.\n",
      "Indians watch Cricket.\n"
     ]
    }
   ],
   "source": [
    "subjects=[\"Americans\",\"Indians\"]\n",
    "verbs=[\"play\",\"watch\"]\n",
    "objects=[\"Baseball\",\"Cricket\"]\n",
    "\n",
    "for subject in subjects:\n",
    "    for verb in verbs:\n",
    "        for obj in objects:\n",
    "            print(subject + ' '+ verb + ' ' + obj, end='.\\n')"
   ]
  },
  {
   "cell_type": "markdown",
   "metadata": {},
   "source": [
    "# Q3:- Write a function so that the columns of the output matrix are powers of the input vector. The order of the powers is determined by the increasing boolean argument. Specifically, when increasing is False, the i-th output column is the input vector raised element-wise to the power of N - i - 1.\n",
    "## HINT: Such a matrix with a geometric progression in each row is named for AlexandreTheophile Vandermonde."
   ]
  },
  {
   "cell_type": "code",
   "execution_count": 11,
   "metadata": {},
   "outputs": [
    {
     "data": {
      "text/plain": [
       "[[1, 1, 1], [4, 2, 1], [9, 3, 1]]"
      ]
     },
     "execution_count": 11,
     "metadata": {},
     "output_type": "execute_result"
    }
   ],
   "source": [
    "# Sol 1 \n",
    "# without use of numpy\n",
    "# using list comprehenssion\n",
    "\n",
    "def alexandre_theophile_vandermonde1(input_vector, is_increasing) :\n",
    "    if is_increasing:\n",
    "        l = [[x**i for i in range(len(input_vector))] for x in input_vector ]\n",
    "    else:\n",
    "        n = len(input_vector)\n",
    "        l = [[x**(n-i-1) for i in range(len(input_vector))] for x in input_vector]\n",
    "    return l\n",
    "\n",
    "alexandre_theophile_vandermonde([1,2,3], False)"
   ]
  },
  {
   "cell_type": "code",
   "execution_count": 15,
   "metadata": {},
   "outputs": [],
   "source": [
    "def alexandre_theophile_vandermonde2(input_vector, is_increasing) :\n",
    "    l=[]\n",
    "    if is_increasing:\n",
    "        for x in input_vector:\n",
    "            m=[]\n",
    "            for i in range(len(input_vector)):\n",
    "                m.append(x**i)\n",
    "            l.append(m)\n",
    "    else:\n",
    "        n = len(input_vector)\n",
    "        for x in input_vector:\n",
    "            m=[]\n",
    "            for i in range(len(input_vector)):\n",
    "                m.append(x**(n-i-1))\n",
    "            l.append(m)\n",
    "    return l"
   ]
  },
  {
   "cell_type": "code",
   "execution_count": 16,
   "metadata": {},
   "outputs": [
    {
     "data": {
      "text/plain": [
       "[[1, 1, 1], [4, 2, 1], [9, 3, 1]]"
      ]
     },
     "execution_count": 16,
     "metadata": {},
     "output_type": "execute_result"
    }
   ],
   "source": [
    "alexandre_theophile_vandermonde2([1,2,3], False)"
   ]
  },
  {
   "cell_type": "code",
   "execution_count": 17,
   "metadata": {},
   "outputs": [],
   "source": [
    "# using numpy\n",
    "\n",
    "def alexandre_theophile_vandermonde3(input_vector, increasing=False):\n",
    "    n = len(input_vector)\n",
    "    if not increasing:\n",
    "        op_matx = np.array([x**(n-1-i) for x in input_vector for i in range(n)]).reshape(input_vector.size,input_vector.size)\n",
    "    elif increasing:\n",
    "        op_matx = np.array([x**i for x in input_vector for i in range(n)]).reshape(input_vector.size,input_vector.size)\n",
    "    \n",
    "    return op_matx\n"
   ]
  },
  {
   "cell_type": "code",
   "execution_count": 18,
   "metadata": {},
   "outputs": [
    {
     "data": {
      "text/plain": [
       "[[1, 1, 1], [4, 2, 1], [9, 3, 1]]"
      ]
     },
     "execution_count": 18,
     "metadata": {},
     "output_type": "execute_result"
    }
   ],
   "source": [
    "alexandre_theophile_vandermonde2([1,2,3], False)"
   ]
  },
  {
   "cell_type": "code",
   "execution_count": null,
   "metadata": {},
   "outputs": [],
   "source": []
  }
 ],
 "metadata": {
  "kernelspec": {
   "display_name": "Python 3",
   "language": "python",
   "name": "python3"
  },
  "language_info": {
   "codemirror_mode": {
    "name": "ipython",
    "version": 3
   },
   "file_extension": ".py",
   "mimetype": "text/x-python",
   "name": "python",
   "nbconvert_exporter": "python",
   "pygments_lexer": "ipython3",
   "version": "3.7.7"
  }
 },
 "nbformat": 4,
 "nbformat_minor": 4
}
