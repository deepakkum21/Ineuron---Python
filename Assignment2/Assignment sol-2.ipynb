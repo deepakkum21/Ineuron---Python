{
 "cells": [
  {
   "cell_type": "markdown",
   "metadata": {},
   "source": [
    "# Q1.A:- Write a Python Program to implement your own myreduce() function which works exactly like Python's built-in function reduce() "
   ]
  },
  {
   "cell_type": "code",
   "execution_count": 12,
   "metadata": {},
   "outputs": [
    {
     "name": "stdout",
     "output_type": "stream",
     "text": [
      "180\n",
      "20\n"
     ]
    }
   ],
   "source": [
    "def myreduce(func, iterable, init=None):\n",
    "    if type(init)!= type(None):\n",
    "        ans = func(init,iterable[0])\n",
    "        ans = func(ans,iterable[1])\n",
    "    else :\n",
    "        ans =  func(iterable[0],iterable[1])\n",
    "    for i in range(2,len(iterable)):\n",
    "        ans = func(ans,iterable[i])\n",
    "    else:\n",
    "        return ans\n",
    "        \n",
    "print(myreduce(lambda x,y: x*y, [1,5,1,4],9))\n",
    "print(myreduce(lambda x,y: x*y, [1,5,1,4]))"
   ]
  },
  {
   "cell_type": "markdown",
   "metadata": {},
   "source": [
    "![q1.A](img\\q1-a.png)"
   ]
  },
  {
   "cell_type": "markdown",
   "metadata": {},
   "source": [
    "# Q1.B:- Write a Python program to implement your own myfilter() function which works exactly like Python's built-in function filter()"
   ]
  },
  {
   "cell_type": "code",
   "execution_count": 13,
   "metadata": {},
   "outputs": [
    {
     "name": "stdout",
     "output_type": "stream",
     "text": [
      "[5, 7, 1, 2, 4, 9, 6, 4, 2, 3]\n",
      "[7, 9, 6]\n"
     ]
    }
   ],
   "source": [
    "# def my_map(func, iterable):\n",
    "#     for i in iterable:\n",
    "#         l.append(func(i))\n",
    "#     return l\n",
    "\n",
    "# my_map(lambda x: x+2, [1,5,1,4])  \n",
    "\n",
    "\n",
    "def myfilter(func, iterable):\n",
    "    if type(func) == type(None):\n",
    "        return iterable\n",
    "    l = []\n",
    "    for i in iterable:\n",
    "        if func(i):\n",
    "            l.append(i)\n",
    "    return l\n",
    "\n",
    "print(myfilter(None, [5,7,1,2,4,9,6,4,2,3]))\n",
    "print(myfilter(lambda x: x>5, [5,7,1,2,4,9,6,4,2,3]))"
   ]
  },
  {
   "cell_type": "markdown",
   "metadata": {},
   "source": [
    "![q1.b](img\\q1-b.png)"
   ]
  },
  {
   "cell_type": "markdown",
   "metadata": {},
   "source": [
    "# Q2 Write List comprehensions to produce the following Lists"
   ]
  },
  {
   "cell_type": "markdown",
   "metadata": {},
   "source": [
    "### Q2.A:-   ['A', 'C', 'A', 'D', 'G', 'I', ’L’, ‘ D’]"
   ]
  },
  {
   "cell_type": "code",
   "execution_count": 2,
   "metadata": {},
   "outputs": [
    {
     "data": {
      "text/plain": [
       "['A', 'C', 'A', 'D', 'G', 'I', 'L', 'D']"
      ]
     },
     "execution_count": 2,
     "metadata": {},
     "output_type": "execute_result"
    }
   ],
   "source": [
    "[x for x in 'ACADGILD']"
   ]
  },
  {
   "cell_type": "markdown",
   "metadata": {},
   "source": [
    "### Q2.B:-  ['x', 'xx', 'xxx', 'xxxx', 'y', 'yy', 'yyy', 'yyyy', 'z', 'zz', 'zzz', 'zzzz']"
   ]
  },
  {
   "cell_type": "code",
   "execution_count": 3,
   "metadata": {},
   "outputs": [
    {
     "data": {
      "text/plain": [
       "['x', 'xx', 'xxx', 'xxxx', 'y', 'yy', 'yyy', 'yyyy', 'z', 'zz', 'zzz', 'zzzz']"
      ]
     },
     "execution_count": 3,
     "metadata": {},
     "output_type": "execute_result"
    }
   ],
   "source": [
    "[x*y for x in 'xyz' for y in range(1,5)]"
   ]
  },
  {
   "cell_type": "markdown",
   "metadata": {},
   "source": [
    "### Q2.C:-  ['x', 'y', 'z', 'xx', 'yy', 'zz', 'xx', 'yy', 'zz', 'xxxx', 'yyyy', 'zzzz']"
   ]
  },
  {
   "cell_type": "code",
   "execution_count": 4,
   "metadata": {},
   "outputs": [
    {
     "data": {
      "text/plain": [
       "['x', 'y', 'z', 'xx', 'yy', 'zz', 'xx', 'yy', 'zz', 'xxxx', 'yyyy', 'zzzz']"
      ]
     },
     "execution_count": 4,
     "metadata": {},
     "output_type": "execute_result"
    }
   ],
   "source": [
    "[x*y for x in [1,2,2,4] for y in 'xyz']"
   ]
  },
  {
   "cell_type": "markdown",
   "metadata": {},
   "source": [
    "### Q2.D:-  [[2], [3], [4], [3], [4], [5], [4], [5], [6]]"
   ]
  },
  {
   "cell_type": "code",
   "execution_count": 5,
   "metadata": {},
   "outputs": [
    {
     "data": {
      "text/plain": [
       "[[2], [3], [4], [3], [4], [5], [4], [5], [6]]"
      ]
     },
     "execution_count": 5,
     "metadata": {},
     "output_type": "execute_result"
    }
   ],
   "source": [
    "# normal\n",
    "#l=[]\n",
    "#for i in [2,3,4]:\n",
    "#    for j in range(3):\n",
    "#        l.append([i+j])\n",
    "        \n",
    "        \n",
    "[[i+j] for i in [2,3,4] for j in range(3) ]"
   ]
  },
  {
   "cell_type": "markdown",
   "metadata": {},
   "source": [
    "![q2_A-D](img\\q2_A-D.png)"
   ]
  },
  {
   "cell_type": "markdown",
   "metadata": {},
   "source": [
    "### Q2.E:-  [[2, 3, 4, 5], [3, 4, 5, 6], [4, 5, 6, 7], [5, 6, 7, 8]]"
   ]
  },
  {
   "cell_type": "code",
   "execution_count": 6,
   "metadata": {},
   "outputs": [
    {
     "data": {
      "text/plain": [
       "[[2, 3, 4, 5], [3, 4, 5, 6], [4, 5, 6, 7], [5, 6, 7, 8]]"
      ]
     },
     "execution_count": 6,
     "metadata": {},
     "output_type": "execute_result"
    }
   ],
   "source": [
    "[[x+i for x in range(2,6)] for i in range(4)]"
   ]
  },
  {
   "cell_type": "markdown",
   "metadata": {},
   "source": [
    "### Q2.F:-  [(1, 1), (2, 1), (3, 1), (1, 2), (2, 2), (3, 2), (1, 3), (2, 3), (3, 3)]"
   ]
  },
  {
   "cell_type": "code",
   "execution_count": 7,
   "metadata": {},
   "outputs": [
    {
     "data": {
      "text/plain": [
       "[(1, 1), (2, 1), (3, 1), (1, 2), (2, 2), (3, 2), (1, 3), (2, 3), (3, 3)]"
      ]
     },
     "execution_count": 7,
     "metadata": {},
     "output_type": "execute_result"
    }
   ],
   "source": [
    "# normal\n",
    "# l=[]\n",
    "# for i in range(1,4):\n",
    "#     for j in range(1,4):\n",
    "#         l.append((j,i))\n",
    "        \n",
    "[(j,i) for i in range(1,4) for j in range(1,4) ] "
   ]
  },
  {
   "cell_type": "markdown",
   "metadata": {},
   "source": [
    "![q2_E-F](img\\q2_E-F.png)"
   ]
  },
  {
   "cell_type": "markdown",
   "metadata": {},
   "source": [
    "# Q3:- Implement a function longestWord() that takes a list of words and returns the longest one."
   ]
  },
  {
   "cell_type": "code",
   "execution_count": 8,
   "metadata": {},
   "outputs": [
    {
     "data": {
      "text/plain": [
       "['dckhdhd', 'kjjjjjj']"
      ]
     },
     "execution_count": 8,
     "metadata": {},
     "output_type": "execute_result"
    }
   ],
   "source": [
    "def longestWord(words):\n",
    "    max_len = len(max(words, key=len))\n",
    "    return [word for word in words if len(word) == max_len]\n",
    "\n",
    "longestWord(['dckhdhd', 'dd', 'djdd', 'j', 'jnd', 'kjjjjjj','jj'])"
   ]
  },
  {
   "cell_type": "markdown",
   "metadata": {},
   "source": [
    "![q3](img\\q3.png)"
   ]
  },
  {
   "cell_type": "markdown",
   "metadata": {},
   "source": [
    "# Q4:- Write a Python Program(with class concepts) to find the area of the triangle using the below formula.\n",
    "### **area = (s*(s-a)*(s-b)*(s-c)) ** 0.5**\n",
    "# Function to take the length of the sides of triangle from user should be defined in the parent class and function to calculate the area should be defined in subclass"
   ]
  },
  {
   "cell_type": "code",
   "execution_count": 2,
   "metadata": {},
   "outputs": [],
   "source": [
    "class Triangle:\n",
    "    ''' class Triangle'''\n",
    "    \n",
    "    def __init__(self):\n",
    "        ''' function to take sides of a triangle'''\n",
    "        self.side_a = int(input('Enter the value for side A: '))\n",
    "        self.side_b = int(input('Enter the value for side B: '))\n",
    "        self.side_c = int(input('Enter the value for side C: '))\n",
    "    \n",
    "    def __str__(self):\n",
    "        '''string representation'''\n",
    "        return 'Triangle with \\nsideA: {} \\nsideB: {} \\nsideC: {}  '.format(self.side_a,self.side_b,self.side_c)\n",
    "    \n",
    "    \n",
    "class Triangle_Area(Triangle):\n",
    "    '''child class of Triangle'''\n",
    "    \n",
    "    def __init__(self):\n",
    "        '''to initialize  parent class'''\n",
    "        super(Triangle_Area,self).__init__()\n",
    "        \n",
    "    def area(self):\n",
    "        '''to calculate area of triangle'''\n",
    "        s = (self.side_a + self.side_b + self.side_c) / 2\n",
    "        self.area = (s*(s-self.side_a)*(s-self.side_b)*(s-self.side_c)) ** 0.5\n",
    "        return self.area\n",
    "    \n",
    "    def __str__(self):\n",
    "        '''string representation'''\n",
    "        return 'The Area of {} is \\n{} unit cube'.format(super(Triangle_Area,self).__str__(), self.area)"
   ]
  },
  {
   "cell_type": "code",
   "execution_count": 4,
   "metadata": {},
   "outputs": [
    {
     "name": "stdout",
     "output_type": "stream",
     "text": [
      "Enter the value for side A: 2\n",
      "Enter the value for side B: 2\n",
      "Enter the value for side C: 2\n"
     ]
    }
   ],
   "source": [
    "triangle = Triangle_Area()"
   ]
  },
  {
   "cell_type": "code",
   "execution_count": 5,
   "metadata": {},
   "outputs": [
    {
     "data": {
      "text/plain": [
       "1.7320508075688772"
      ]
     },
     "execution_count": 5,
     "metadata": {},
     "output_type": "execute_result"
    }
   ],
   "source": [
    "triangle.area()"
   ]
  },
  {
   "cell_type": "code",
   "execution_count": 6,
   "metadata": {},
   "outputs": [
    {
     "name": "stdout",
     "output_type": "stream",
     "text": [
      "The Area of Triangle with \n",
      "sideA: 2 \n",
      "sideB: 2 \n",
      "sideC: 2   is \n",
      "1.7320508075688772 unit cube\n"
     ]
    }
   ],
   "source": [
    "print(triangle)"
   ]
  },
  {
   "cell_type": "markdown",
   "metadata": {},
   "source": [
    "# Q5:- Write a function filter_long_words() that takes a list of words and an integer n and returns the list of words that are longer than n."
   ]
  },
  {
   "cell_type": "code",
   "execution_count": 7,
   "metadata": {},
   "outputs": [
    {
     "data": {
      "text/plain": [
       "['dckhdhd', 'kjjjjjj']"
      ]
     },
     "execution_count": 7,
     "metadata": {},
     "output_type": "execute_result"
    }
   ],
   "source": [
    "# def filter_long_words(words, n):\n",
    "    \n",
    "#     return [word for word in words if len(word)> n]\n",
    "\n",
    "\n",
    "## using filter()\n",
    "def filter_long_words(words, n):    \n",
    "    return list(filter(lambda x: len(x) > n, words))\n",
    "filter_long_words(['dckhdhd', 'dd', 'djdd', 'j', 'jnd', 'kjjjjjj','jj'],5)"
   ]
  },
  {
   "cell_type": "markdown",
   "metadata": {},
   "source": [
    "# Q6:- Write a Python program using function concept that maps list of words into a list of integers representing the lengths of the corresponding words​.\n",
    "## **Hint: ​If a list [ ab,cde,erty] is passed on to the python function output should come as [2,3,4]**\n",
    "## **Here 2,3 and 4 are the lengths of the words in the list.**"
   ]
  },
  {
   "cell_type": "code",
   "execution_count": 8,
   "metadata": {},
   "outputs": [
    {
     "data": {
      "text/plain": [
       "[7, 2, 4, 1, 3, 7, 2]"
      ]
     },
     "execution_count": 8,
     "metadata": {},
     "output_type": "execute_result"
    }
   ],
   "source": [
    "def map_to_len(words):\n",
    "    return list(map(lambda x: len(x), words))\n",
    "map_to_len(['dckhdhd', 'dd', 'djdd', 'j', 'jnd', 'kjjjjjj','jj'])"
   ]
  },
  {
   "cell_type": "markdown",
   "metadata": {},
   "source": [
    "# Q7:- Write a Python function which takes a character (i.e. a string of length 1) and returns True if it is a vowel, False otherwise."
   ]
  },
  {
   "cell_type": "code",
   "execution_count": 11,
   "metadata": {},
   "outputs": [
    {
     "name": "stdout",
     "output_type": "stream",
     "text": [
      "True\n",
      "False\n"
     ]
    }
   ],
   "source": [
    "def is_vowel(char):\n",
    "    if(len(char)!=1):\n",
    "        return False\n",
    "    else:\n",
    "        if char.lower() =='a'  or char.lower() =='e' or char.lower() =='i' or char.lower() =='o' or char.lower() =='u':\n",
    "            return True\n",
    "        else:\n",
    "            return False\n",
    "\n",
    "print(is_vowel('A')  )\n",
    "print(is_vowel('C'))"
   ]
  },
  {
   "cell_type": "code",
   "execution_count": null,
   "metadata": {},
   "outputs": [],
   "source": []
  }
 ],
 "metadata": {
  "kernelspec": {
   "display_name": "Python 3",
   "language": "python",
   "name": "python3"
  },
  "language_info": {
   "codemirror_mode": {
    "name": "ipython",
    "version": 3
   },
   "file_extension": ".py",
   "mimetype": "text/x-python",
   "name": "python",
   "nbconvert_exporter": "python",
   "pygments_lexer": "ipython3",
   "version": "3.7.7"
  }
 },
 "nbformat": 4,
 "nbformat_minor": 4
}
